{
 "cells": [
  {
   "cell_type": "markdown",
   "metadata": {},
   "source": [
    "# WGAN of the MNIST dataset with KERAS"
   ]
  },
  {
   "cell_type": "markdown",
   "metadata": {},
   "source": [
    "- For the overal architecture, I used [this code](https://github.com/eriklindernoren/Keras-GAN/blob/master/wgan/wgan.py)\n",
    "- I then improved it using some [GAN hacks](https://github.com/soumith/ganhacks)\n",
    "- [Paper introducing WGAN](https://arxiv.org/abs/1701.07875)\n",
    "- [Paper discussin WGAN](https://hal.inria.fr/hal-01850447/document)"
   ]
  },
  {
   "cell_type": "markdown",
   "metadata": {},
   "source": [
    "![image](https://lilianweng.github.io/lil-log/assets/images/WGAN_algorithm.png)"
   ]
  },
  {
   "cell_type": "markdown",
   "metadata": {},
   "source": [
    "Compared to the original GAN algorithm, the WGAN undertakes the following changes:\n",
    "\n",
    "- After every gradient update on the critic function, clamp the weights to a small fixed range, [−c,c].\n",
    "- Use a new loss function derived from the Wasserstein distance, no logarithm anymore. The “discriminator” model does not play as a direct critic but a helper for estimating the Wasserstein metric between real and generated data distribution.\n",
    "- Empirically the authors recommended RMSProp optimizer on the critic, rather than a momentum based optimizer such as Adam which could cause instability in the model training. I haven’t seen clear theoretical explanation on this point through.\n",
    "\n",
    "Source is [this post](https://lilianweng.github.io/lil-log/2017/08/20/from-GAN-to-WGAN.html)"
   ]
  },
  {
   "cell_type": "markdown",
   "metadata": {},
   "source": [
    "Nvidia's new unconditional GAN produces the best samples yet with no conditioning\n",
    "\n",
    "'I've read a couple papers that mention this particular con (and I've seen it myself building a GAN to generate emojis) to conditional GANs: conditional GANs end up ignoring the noise variable from your latent space and rely entirely on your conditional input. This leads to a particular type of \"mode collapse\" where, sure, you might be generating different images given a different conditional input. But given the same conditional input, your generated images have little to no variation. And this isn't easily fixed with minibatch discrimination because you'll already have varying images per batch given a bunch of different conditional inputs.'"
   ]
  },
  {
   "cell_type": "code",
   "execution_count": 1,
   "metadata": {
    "scrolled": true
   },
   "outputs": [
    {
     "name": "stderr",
     "output_type": "stream",
     "text": [
      "Using TensorFlow backend.\n"
     ]
    },
    {
     "name": "stdout",
     "output_type": "stream",
     "text": [
      "1.1.0\n",
      "2.0.0\n"
     ]
    },
    {
     "name": "stderr",
     "output_type": "stream",
     "text": [
      "C:\\Users\\mednche\\AppData\\Local\\conda\\conda\\envs\\kerasproject\\lib\\site-packages\\sklearn\\utils\\fixes.py:313: FutureWarning: numpy not_equal will not check object identity in the future. The comparison did not return the same result as suggested by the identity (`is`)) and will change.\n",
      "  _nan_object_mask = _nan_object_array != _nan_object_array\n"
     ]
    }
   ],
   "source": [
    "import os\n",
    "import numpy as np\n",
    "import matplotlib.pyplot as plt\n",
    "\n",
    "import tensorflow as tf\n",
    "import keras\n",
    "print(tf.__version__) # Tensorflow 1.1.0\n",
    "print(keras.__version__) # Keras 2.0 is required here (revert to it if needed) otherwise LeakyRelu doesn't work\n",
    "\n",
    "from keras.layers import Input, Concatenate, BatchNormalization\n",
    "from keras.models import Model, Sequential\n",
    "from keras.layers.core import Dense, Dropout\n",
    "from keras.layers.advanced_activations import LeakyReLU\n",
    "from keras.datasets import mnist\n",
    "from keras.optimizers import Adam, RMSprop\n",
    "from keras import initializers\n",
    "from keras.layers import Activation, Dense\n",
    "import keras.backend as K\n",
    "\n",
    "from sklearn.utils import shuffle\n",
    "\n",
    "from IPython import display\n",
    "\n",
    "import pandas as pd\n",
    "\n"
   ]
  },
  {
   "cell_type": "code",
   "execution_count": 2,
   "metadata": {},
   "outputs": [],
   "source": [
    "# Let Keras know that we are using tensorflow as our backend engine\n",
    "os.environ[\"KERAS_BACKEND\"] = \"tensorflow\"\n",
    "\n",
    "#import random\n",
    "#seed = random.randint(0,9999)\n",
    "#random.seed(seed)"
   ]
  },
  {
   "cell_type": "markdown",
   "metadata": {},
   "source": [
    "### Load MNIST data"
   ]
  },
  {
   "cell_type": "code",
   "execution_count": 20,
   "metadata": {},
   "outputs": [
    {
     "name": "stdout",
     "output_type": "stream",
     "text": [
      "X_train shape: (60000, 784)\n",
      "60000 training samples\n",
      "10000 test samples\n"
     ]
    }
   ],
   "source": [
    "# load the data\n",
    "(X_train, y_train), (X_test, y_test) = mnist.load_data()\n",
    "# normalize our inputs to be in the range[-1, 1]\n",
    "X_train = (X_train.astype(np.float32) - 127.5)/127.5\n",
    "# convert x_train with a shape of (60000, 28, 28) to (60000, 784) so we have 784 columns per row\n",
    "X_train = X_train.reshape(60000, 784)\n",
    "\n",
    "print('X_train shape:', X_train.shape)\n",
    "print(X_train.shape[0], 'training samples')\n",
    "print(X_test.shape[0], 'test samples')\n"
   ]
  },
  {
   "cell_type": "markdown",
   "metadata": {},
   "source": [
    "### Visualise MNIST data"
   ]
  },
  {
   "cell_type": "code",
   "execution_count": 21,
   "metadata": {},
   "outputs": [
    {
     "data": {
      "image/png": "[encoded data removed]",
      "text/plain": [
       "<Figure size 432x288 with 25 Axes>"
      ]
     },
     "metadata": {},
     "output_type": "display_data"
    }
   ],
   "source": [
    "for i in range(25):\n",
    "    plt.subplot(5,5,i+1)\n",
    "    plt.xticks([])\n",
    "    plt.yticks([])\n",
    "    plt.grid(False)\n",
    "    plt.imshow(X_train.reshape(X_train.shape[0], 28, 28)[i], interpolation='nearest', cmap='gray_r')\n"
   ]
  },
  {
   "cell_type": "code",
   "execution_count": 22,
   "metadata": {},
   "outputs": [],
   "source": [
    "def wasserstein_loss(y_true, y_pred):\n",
    "    return K.mean(y_true * y_pred)"
   ]
  },
  {
   "cell_type": "code",
   "execution_count": 23,
   "metadata": {},
   "outputs": [],
   "source": [
    "def get_generator():\n",
    "    \n",
    "    random_dim = 100\n",
    "    num_classes = 10\n",
    "    \n",
    "    generator = Sequential()\n",
    "    generator.add(Dense(256, input_dim= random_dim + num_classes, kernel_initializer = 'uniform', bias_initializer = 'zeros'))\n",
    "    generator.add(BatchNormalization(momentum=0.8))\n",
    "    generator.add(LeakyReLU(alpha=0.2))\n",
    "\n",
    "    generator.add(Dense(512))\n",
    "    generator.add(BatchNormalization(momentum=0.8))\n",
    "    generator.add(LeakyReLU(alpha=0.2))\n",
    "\n",
    "    generator.add(Dense(1024))\n",
    "    generator.add(BatchNormalization(momentum=0.8))\n",
    "    generator.add(LeakyReLU(alpha=0.2))\n",
    "\n",
    "    generator.add(Dense(784, activation='tanh'))\n",
    "    \n",
    "    generator.summary()\n",
    "    \n",
    "    noise = Input(shape=(random_dim,))\n",
    "    labels = Input(shape=(num_classes,))\n",
    "    \n",
    "    model_input = Concatenate()([noise, labels])\n",
    "    \n",
    "    img = generator(model_input)\n",
    "    \n",
    "    return Model([noise, labels], img)\n"
   ]
  },
  {
   "cell_type": "code",
   "execution_count": 24,
   "metadata": {},
   "outputs": [],
   "source": [
    "def get_critic():\n",
    "    \n",
    "    num_classes = 10\n",
    "    \n",
    "    critic = Sequential()\n",
    "    critic.add(Dense(1024, input_dim=784 + num_classes, kernel_initializer = 'uniform', bias_initializer = 'zeros'))\n",
    "    #critic.add(BatchNormalization(momentum=0.8))\n",
    "    critic.add(LeakyReLU(alpha=0.3))\n",
    "    critic.add(Dropout(0.2))\n",
    "\n",
    "    critic.add(Dense(512))\n",
    "    #critic.add(BatchNormalization(momentum=0.8))\n",
    "    critic.add(LeakyReLU(alpha=0.3))\n",
    "    critic.add(Dropout(0.2))\n",
    "\n",
    "    critic.add(Dense(256))\n",
    "    #critic.add(BatchNormalization(momentum=0.8))\n",
    "    critic.add(LeakyReLU(alpha=0.3))\n",
    "    critic.add(Dropout(0.2))\n",
    "\n",
    "    critic.add(Dense(1, activation='sigmoid'))  # removed sigmoid for WGAN\n",
    "    \n",
    "    img = Input(shape=(784,))\n",
    "    labels = Input(shape=(num_classes,))\n",
    "    model_input = Concatenate()([img, labels])\n",
    "\n",
    "    validity = critic(model_input)\n",
    "\n",
    "    return Model([img, labels], validity)"
   ]
  },
  {
   "cell_type": "code",
   "execution_count": 25,
   "metadata": {},
   "outputs": [],
   "source": [
    "def get_gan_network():\n",
    "\n",
    "    # Following parameter and optimizer set as recommended in paper\n",
    "    optimizer = RMSprop(lr=0.00005)   \n",
    "        \n",
    "    D = get_critic()\n",
    "    D.compile(loss='binary_crossentropy', optimizer=optimizer, metrics=['accuracy'])\n",
    "    \n",
    "    G = get_generator()\n",
    "    #G.compile(loss='binary_crossentropy', optimizer=optimizer, metrics=['accuracy'])\n",
    "    \n",
    "    \n",
    "    noise = Input(shape=(100,))\n",
    "    label = Input(shape=(10,))\n",
    "    \n",
    "    img = G([noise, label])\n",
    "    \n",
    "    D.trainable = False\n",
    "    \n",
    "    # get the output of the discriminator (probability of the image being real or not)\n",
    "    valid = D([img, label])\n",
    "\n",
    "    gan = Model([noise, label], valid) # inputs and outputs under keras version 2.2.2\n",
    "    gan.compile(loss=wasserstein_loss, optimizer=optimizer, metrics=['accuracy'])\n",
    "    \n",
    "    return G, D, gan"
   ]
  },
  {
   "cell_type": "markdown",
   "metadata": {},
   "source": [
    "###  A function which will save your generated images every 20 epochs"
   ]
  },
  {
   "cell_type": "code",
   "execution_count": 26,
   "metadata": {},
   "outputs": [],
   "source": [
    "# Create a wall of generated MNIST images\n",
    "def plot_generated_images(epoch, generator, random_dim, examples=100, dim=(10, 10), figsize=(10, 10)):\n",
    "    \n",
    "    noise = np.random.normal(0, 1, size=[examples, random_dim])\n",
    "    labels = np.arange(10) # create labels from 0 to 9\n",
    "    labels = np.asarray([one_hot_encode(x) for x in labels]) \n",
    "    \n",
    "    generated_images = G.predict([noise, labels])  \n",
    "    generated_images = generated_images.reshape(examples, 28, 28)\n",
    "\n",
    "    plt.figure(figsize=figsize)\n",
    "    for i in range(generated_images.shape[0]):\n",
    "        plt.subplot(dim[0], dim[1], i+1)\n",
    "        plt.imshow(generated_images[i], interpolation='nearest', cmap='gray_r')\n",
    "        plt.axis('off')\n",
    "    plt.tight_layout()\n",
    "    plt.savefig('gan_generated_image_epoch_%d.png' % epoch)\n",
    "    "
   ]
  },
  {
   "cell_type": "code",
   "execution_count": 27,
   "metadata": {},
   "outputs": [],
   "source": [
    "def one_hot_encode(y):\n",
    "    z = np.zeros(10)\n",
    "    #idx = np.arange(len(y))\n",
    "    z[y] = 1\n",
    "    return z"
   ]
  },
  {
   "cell_type": "markdown",
   "metadata": {},
   "source": [
    "### Training the GAN"
   ]
  },
  {
   "cell_type": "code",
   "execution_count": 28,
   "metadata": {
    "scrolled": true
   },
   "outputs": [
    {
     "name": "stdout",
     "output_type": "stream",
     "text": [
      "_________________________________________________________________\n",
      "Layer (type)                 Output Shape              Param #   \n",
      "=================================================================\n",
      "dense_77 (Dense)             (None, 256)               28416     \n",
      "_________________________________________________________________\n",
      "batch_normalization_28 (Batc (None, 256)               1024      \n",
      "_________________________________________________________________\n",
      "leaky_re_lu_58 (LeakyReLU)   (None, 256)               0         \n",
      "_________________________________________________________________\n",
      "dense_78 (Dense)             (None, 512)               131584    \n",
      "_________________________________________________________________\n",
      "batch_normalization_29 (Batc (None, 512)               2048      \n",
      "_________________________________________________________________\n",
      "leaky_re_lu_59 (LeakyReLU)   (None, 512)               0         \n",
      "_________________________________________________________________\n",
      "dense_79 (Dense)             (None, 1024)              525312    \n",
      "_________________________________________________________________\n",
      "batch_normalization_30 (Batc (None, 1024)              4096      \n",
      "_________________________________________________________________\n",
      "leaky_re_lu_60 (LeakyReLU)   (None, 1024)              0         \n",
      "_________________________________________________________________\n",
      "dense_80 (Dense)             (None, 784)               803600    \n",
      "=================================================================\n",
      "Total params: 1,496,080.0\n",
      "Trainable params: 1,492,496.0\n",
      "Non-trainable params: 3,584.0\n",
      "_________________________________________________________________\n",
      "--------------- Epoch 1 ---------------\n",
      "Cost of D after epoch 1: 0.684297\n",
      "Cost of G after epoch 1: 0.050252\n"
     ]
    },
    {
     "data": {
      "image/png": "[encoded data removed]",
      "text/plain": [
       "<Figure size 432x288 with 5 Axes>"
      ]
     },
     "metadata": {},
     "output_type": "display_data"
    },
    {
     "name": "stdout",
     "output_type": "stream",
     "text": [
      "--------------- Epoch 2 ---------------\n",
      "Cost of D after epoch 2: 0.669915\n",
      "Cost of G after epoch 2: 0.051737\n",
      "--------------- Epoch 3 ---------------\n",
      "Cost of D after epoch 3: 0.658470\n",
      "Cost of G after epoch 3: 0.052912\n",
      "--------------- Epoch 4 ---------------\n",
      "Cost of D after epoch 4: 0.665673\n",
      "Cost of G after epoch 4: 0.052099\n",
      "--------------- Epoch 5 ---------------\n",
      "Cost of D after epoch 5: 0.662270\n",
      "Cost of G after epoch 5: 0.051949\n",
      "--------------- Epoch 6 ---------------\n",
      "Cost of D after epoch 6: 0.666418\n",
      "Cost of G after epoch 6: 0.052305\n",
      "--------------- Epoch 7 ---------------\n",
      "Cost of D after epoch 7: 0.668158\n",
      "Cost of G after epoch 7: 0.051341\n",
      "--------------- Epoch 8 ---------------\n",
      "Cost of D after epoch 8: 0.678443\n",
      "Cost of G after epoch 8: 0.052006\n",
      "--------------- Epoch 9 ---------------\n",
      "Cost of D after epoch 9: 0.677282\n",
      "Cost of G after epoch 9: 0.052373\n",
      "--------------- Epoch 10 ---------------\n",
      "Cost of D after epoch 10: 0.674379\n",
      "Cost of G after epoch 10: 0.052827\n"
     ]
    },
    {
     "data": {
      "image/png": "[encoded data removed]",
      "text/plain": [
       "<Figure size 432x288 with 5 Axes>"
      ]
     },
     "metadata": {},
     "output_type": "display_data"
    },
    {
     "name": "stdout",
     "output_type": "stream",
     "text": [
      "--------------- Epoch 11 ---------------\n",
      "Cost of D after epoch 11: 0.677147\n",
      "Cost of G after epoch 11: 0.052458\n",
      "--------------- Epoch 12 ---------------\n",
      "Cost of D after epoch 12: 0.674338\n",
      "Cost of G after epoch 12: 0.052374\n",
      "--------------- Epoch 13 ---------------\n",
      "Cost of D after epoch 13: 0.684985\n",
      "Cost of G after epoch 13: 0.051809\n",
      "--------------- Epoch 14 ---------------\n",
      "Cost of D after epoch 14: 0.681699\n",
      "Cost of G after epoch 14: 0.052048\n",
      "--------------- Epoch 15 ---------------\n",
      "Cost of D after epoch 15: 0.677745\n",
      "Cost of G after epoch 15: 0.051815\n",
      "--------------- Epoch 16 ---------------\n",
      "Cost of D after epoch 16: 0.680308\n",
      "Cost of G after epoch 16: 0.052274\n",
      "--------------- Epoch 17 ---------------\n",
      "Cost of D after epoch 17: 0.688493\n",
      "Cost of G after epoch 17: 0.051960\n",
      "--------------- Epoch 18 ---------------\n",
      "Cost of D after epoch 18: 0.681180\n",
      "Cost of G after epoch 18: 0.052297\n",
      "--------------- Epoch 19 ---------------\n",
      "Cost of D after epoch 19: 0.675264\n",
      "Cost of G after epoch 19: 0.052368\n",
      "--------------- Epoch 20 ---------------\n",
      "Cost of D after epoch 20: 0.682215\n",
      "Cost of G after epoch 20: 0.052059\n"
     ]
    },
    {
     "data": {
      "image/png": "[encoded data removed]",
      "text/plain": [
       "<Figure size 432x288 with 5 Axes>"
      ]
     },
     "metadata": {},
     "output_type": "display_data"
    },
    {
     "name": "stdout",
     "output_type": "stream",
     "text": [
      "--------------- Epoch 21 ---------------\n",
      "Cost of D after epoch 21: 0.683328\n",
      "Cost of G after epoch 21: 0.052173\n",
      "--------------- Epoch 22 ---------------\n",
      "Cost of D after epoch 22: 0.685880\n",
      "Cost of G after epoch 22: 0.052318\n",
      "--------------- Epoch 23 ---------------\n",
      "Cost of D after epoch 23: 0.685992\n",
      "Cost of G after epoch 23: 0.052338\n",
      "--------------- Epoch 24 ---------------\n",
      "Cost of D after epoch 24: 0.684635\n",
      "Cost of G after epoch 24: 0.052250\n",
      "--------------- Epoch 25 ---------------\n",
      "Cost of D after epoch 25: 0.684224\n",
      "Cost of G after epoch 25: 0.052497\n",
      "--------------- Epoch 26 ---------------\n",
      "Cost of D after epoch 26: 0.686154\n",
      "Cost of G after epoch 26: 0.052152\n",
      "--------------- Epoch 27 ---------------\n",
      "Cost of D after epoch 27: 0.686616\n",
      "Cost of G after epoch 27: 0.052287\n",
      "--------------- Epoch 28 ---------------\n",
      "Cost of D after epoch 28: 0.687378\n",
      "Cost of G after epoch 28: 0.052193\n",
      "--------------- Epoch 29 ---------------\n",
      "Cost of D after epoch 29: 0.686564\n",
      "Cost of G after epoch 29: 0.052161\n",
      "--------------- Epoch 30 ---------------\n",
      "Cost of D after epoch 30: 0.685715\n",
      "Cost of G after epoch 30: 0.052214\n"
     ]
    },
    {
     "data": {
      "image/png": "[encoded data removed]",
      "text/plain": [
       "<Figure size 432x288 with 5 Axes>"
      ]
     },
     "metadata": {},
     "output_type": "display_data"
    },
    {
     "name": "stdout",
     "output_type": "stream",
     "text": [
      "--------------- Epoch 31 ---------------\n",
      "Cost of D after epoch 31: 0.685093\n",
      "Cost of G after epoch 31: 0.051729\n",
      "--------------- Epoch 32 ---------------\n",
      "Cost of D after epoch 32: 0.692249\n",
      "Cost of G after epoch 32: 0.052082\n",
      "--------------- Epoch 33 ---------------\n",
      "Cost of D after epoch 33: 0.684858\n",
      "Cost of G after epoch 33: 0.052052\n",
      "--------------- Epoch 34 ---------------\n",
      "Cost of D after epoch 34: 0.683873\n",
      "Cost of G after epoch 34: 0.052264\n",
      "--------------- Epoch 35 ---------------\n",
      "Cost of D after epoch 35: 0.687142\n",
      "Cost of G after epoch 35: 0.052387\n",
      "--------------- Epoch 36 ---------------\n",
      "Cost of D after epoch 36: 0.686411\n",
      "Cost of G after epoch 36: 0.051909\n",
      "--------------- Epoch 37 ---------------\n",
      "Cost of D after epoch 37: 0.686563\n",
      "Cost of G after epoch 37: 0.052091\n",
      "--------------- Epoch 38 ---------------\n",
      "Cost of D after epoch 38: 0.687703\n",
      "Cost of G after epoch 38: 0.051887\n",
      "--------------- Epoch 39 ---------------\n",
      "Cost of D after epoch 39: 0.685684\n",
      "Cost of G after epoch 39: 0.051935\n",
      "--------------- Epoch 40 ---------------\n",
      "Cost of D after epoch 40: 0.684305\n",
      "Cost of G after epoch 40: 0.051979\n"
     ]
    },
    {
     "data": {
      "image/png": "[encoded data removed]",
      "text/plain": [
       "<Figure size 432x288 with 5 Axes>"
      ]
     },
     "metadata": {},
     "output_type": "display_data"
    },
    {
     "name": "stdout",
     "output_type": "stream",
     "text": [
      "--------------- Epoch 41 ---------------\n",
      "Cost of D after epoch 41: 0.689332\n",
      "Cost of G after epoch 41: 0.052010\n",
      "--------------- Epoch 42 ---------------\n",
      "Cost of D after epoch 42: 0.688509\n",
      "Cost of G after epoch 42: 0.052206\n",
      "--------------- Epoch 43 ---------------\n",
      "Cost of D after epoch 43: 0.689158\n",
      "Cost of G after epoch 43: 0.051996\n",
      "--------------- Epoch 44 ---------------\n",
      "Cost of D after epoch 44: 0.687672\n",
      "Cost of G after epoch 44: 0.052017\n",
      "--------------- Epoch 45 ---------------\n",
      "Cost of D after epoch 45: 0.690631\n",
      "Cost of G after epoch 45: 0.051991\n",
      "--------------- Epoch 46 ---------------\n",
      "Cost of D after epoch 46: 0.689748\n",
      "Cost of G after epoch 46: 0.052155\n",
      "--------------- Epoch 47 ---------------\n",
      "Cost of D after epoch 47: 0.687319\n",
      "Cost of G after epoch 47: 0.051998\n",
      "--------------- Epoch 48 ---------------\n",
      "Cost of D after epoch 48: 0.687980\n",
      "Cost of G after epoch 48: 0.052322\n",
      "--------------- Epoch 49 ---------------\n",
      "Cost of D after epoch 49: 0.690068\n",
      "Cost of G after epoch 49: 0.052252\n",
      "--------------- Epoch 50 ---------------\n",
      "Cost of D after epoch 50: 0.686890\n",
      "Cost of G after epoch 50: 0.052230\n"
     ]
    },
    {
     "data": {
      "image/png": "[encoded data removed]",
      "text/plain": [
       "<Figure size 432x288 with 5 Axes>"
      ]
     },
     "metadata": {},
     "output_type": "display_data"
    },
    {
     "name": "stdout",
     "output_type": "stream",
     "text": [
      "--------------- Epoch 51 ---------------\n",
      "Cost of D after epoch 51: 0.689108\n",
      "Cost of G after epoch 51: 0.052339\n",
      "--------------- Epoch 52 ---------------\n",
      "Cost of D after epoch 52: 0.688616\n",
      "Cost of G after epoch 52: 0.052070\n",
      "--------------- Epoch 53 ---------------\n",
      "Cost of D after epoch 53: 0.687938\n",
      "Cost of G after epoch 53: 0.052175\n",
      "--------------- Epoch 54 ---------------\n",
      "Cost of D after epoch 54: 0.686690\n",
      "Cost of G after epoch 54: 0.052292\n",
      "--------------- Epoch 55 ---------------\n",
      "Cost of D after epoch 55: 0.690863\n",
      "Cost of G after epoch 55: 0.052126\n",
      "--------------- Epoch 56 ---------------\n",
      "Cost of D after epoch 56: 0.689654\n",
      "Cost of G after epoch 56: 0.051976\n",
      "--------------- Epoch 57 ---------------\n",
      "Cost of D after epoch 57: 0.688562\n",
      "Cost of G after epoch 57: 0.052280\n",
      "--------------- Epoch 58 ---------------\n",
      "Cost of D after epoch 58: 0.692788\n",
      "Cost of G after epoch 58: 0.052159\n",
      "--------------- Epoch 59 ---------------\n",
      "Cost of D after epoch 59: 0.689630\n",
      "Cost of G after epoch 59: 0.052340\n",
      "--------------- Epoch 60 ---------------\n",
      "Cost of D after epoch 60: 0.690030\n",
      "Cost of G after epoch 60: 0.052148\n"
     ]
    },
    {
     "data": {
      "image/png": "[encoded data removed]",
      "text/plain": [
       "<Figure size 432x288 with 5 Axes>"
      ]
     },
     "metadata": {},
     "output_type": "display_data"
    },
    {
     "name": "stdout",
     "output_type": "stream",
     "text": [
      "--------------- Epoch 61 ---------------\n",
      "Cost of D after epoch 61: 0.690948\n",
      "Cost of G after epoch 61: 0.052208\n",
      "--------------- Epoch 62 ---------------\n",
      "Cost of D after epoch 62: 0.690063\n",
      "Cost of G after epoch 62: 0.052237\n",
      "--------------- Epoch 63 ---------------\n",
      "Cost of D after epoch 63: 0.690047\n",
      "Cost of G after epoch 63: 0.052036\n",
      "--------------- Epoch 64 ---------------\n",
      "Cost of D after epoch 64: 0.686972\n",
      "Cost of G after epoch 64: 0.052391\n",
      "--------------- Epoch 65 ---------------\n",
      "Cost of D after epoch 65: 0.687924\n",
      "Cost of G after epoch 65: 0.052068\n",
      "--------------- Epoch 66 ---------------\n",
      "Cost of D after epoch 66: 0.689250\n",
      "Cost of G after epoch 66: 0.052289\n",
      "--------------- Epoch 67 ---------------\n",
      "Cost of D after epoch 67: 0.688325\n",
      "Cost of G after epoch 67: 0.052244\n",
      "--------------- Epoch 68 ---------------\n",
      "Cost of D after epoch 68: 0.688668\n",
      "Cost of G after epoch 68: 0.052327\n",
      "--------------- Epoch 69 ---------------\n",
      "Cost of D after epoch 69: 0.691542\n",
      "Cost of G after epoch 69: 0.052149\n",
      "--------------- Epoch 70 ---------------\n",
      "Cost of D after epoch 70: 0.689013\n",
      "Cost of G after epoch 70: 0.052009\n"
     ]
    },
    {
     "data": {
      "image/png": "[encoded data removed]",
      "text/plain": [
       "<Figure size 432x288 with 5 Axes>"
      ]
     },
     "metadata": {},
     "output_type": "display_data"
    },
    {
     "name": "stdout",
     "output_type": "stream",
     "text": [
      "--------------- Epoch 71 ---------------\n",
      "Cost of D after epoch 71: 0.688768\n",
      "Cost of G after epoch 71: 0.052202\n",
      "--------------- Epoch 72 ---------------\n",
      "Cost of D after epoch 72: 0.690790\n",
      "Cost of G after epoch 72: 0.052161\n",
      "--------------- Epoch 73 ---------------\n",
      "Cost of D after epoch 73: 0.690417\n",
      "Cost of G after epoch 73: 0.052182\n",
      "--------------- Epoch 74 ---------------\n",
      "Cost of D after epoch 74: 0.690003\n",
      "Cost of G after epoch 74: 0.052057\n",
      "--------------- Epoch 75 ---------------\n",
      "Cost of D after epoch 75: 0.690405\n",
      "Cost of G after epoch 75: 0.052144\n",
      "--------------- Epoch 76 ---------------\n",
      "Cost of D after epoch 76: 0.689032\n",
      "Cost of G after epoch 76: 0.052039\n",
      "--------------- Epoch 77 ---------------\n",
      "Cost of D after epoch 77: 0.689112\n",
      "Cost of G after epoch 77: 0.052223\n",
      "--------------- Epoch 78 ---------------\n",
      "Cost of D after epoch 78: 0.689540\n",
      "Cost of G after epoch 78: 0.051996\n",
      "--------------- Epoch 79 ---------------\n",
      "Cost of D after epoch 79: 0.687132\n",
      "Cost of G after epoch 79: 0.052224\n",
      "--------------- Epoch 80 ---------------\n",
      "Cost of D after epoch 80: 0.689120\n",
      "Cost of G after epoch 80: 0.052180\n"
     ]
    },
    {
     "data": {
      "image/png": "[encoded data removed]",
      "text/plain": [
       "<Figure size 432x288 with 5 Axes>"
      ]
     },
     "metadata": {},
     "output_type": "display_data"
    },
    {
     "name": "stdout",
     "output_type": "stream",
     "text": [
      "--------------- Epoch 81 ---------------\n",
      "Cost of D after epoch 81: 0.688562\n",
      "Cost of G after epoch 81: 0.052322\n",
      "--------------- Epoch 82 ---------------\n",
      "Cost of D after epoch 82: 0.689825\n",
      "Cost of G after epoch 82: 0.052183\n",
      "--------------- Epoch 83 ---------------\n",
      "Cost of D after epoch 83: 0.689853\n",
      "Cost of G after epoch 83: 0.052118\n",
      "--------------- Epoch 84 ---------------\n",
      "Cost of D after epoch 84: 0.690494\n",
      "Cost of G after epoch 84: 0.052056\n",
      "--------------- Epoch 85 ---------------\n",
      "Cost of D after epoch 85: 0.689086\n",
      "Cost of G after epoch 85: 0.052130\n",
      "--------------- Epoch 86 ---------------\n",
      "Cost of D after epoch 86: 0.688776\n",
      "Cost of G after epoch 86: 0.052151\n",
      "--------------- Epoch 87 ---------------\n",
      "Cost of D after epoch 87: 0.689012\n",
      "Cost of G after epoch 87: 0.052237\n",
      "--------------- Epoch 88 ---------------\n",
      "Cost of D after epoch 88: 0.687885\n",
      "Cost of G after epoch 88: 0.052148\n",
      "--------------- Epoch 89 ---------------\n",
      "Cost of D after epoch 89: 0.689902\n",
      "Cost of G after epoch 89: 0.052253\n",
      "--------------- Epoch 90 ---------------\n",
      "Cost of D after epoch 90: 0.688852\n",
      "Cost of G after epoch 90: 0.052185\n"
     ]
    },
    {
     "data": {
      "image/png": "[encoded data removed]",
      "text/plain": [
       "<Figure size 432x288 with 5 Axes>"
      ]
     },
     "metadata": {},
     "output_type": "display_data"
    },
    {
     "name": "stdout",
     "output_type": "stream",
     "text": [
      "--------------- Epoch 91 ---------------\n",
      "Cost of D after epoch 91: 0.690169\n",
      "Cost of G after epoch 91: 0.052118\n",
      "--------------- Epoch 92 ---------------\n",
      "Cost of D after epoch 92: 0.690319\n",
      "Cost of G after epoch 92: 0.052029\n",
      "--------------- Epoch 93 ---------------\n",
      "Cost of D after epoch 93: 0.688804\n",
      "Cost of G after epoch 93: 0.052186\n",
      "--------------- Epoch 94 ---------------\n",
      "Cost of D after epoch 94: 0.688675\n",
      "Cost of G after epoch 94: 0.052296\n",
      "--------------- Epoch 95 ---------------\n",
      "Cost of D after epoch 95: 0.688829\n",
      "Cost of G after epoch 95: 0.052141\n",
      "--------------- Epoch 96 ---------------\n",
      "Cost of D after epoch 96: 0.690922\n",
      "Cost of G after epoch 96: 0.052080\n",
      "--------------- Epoch 97 ---------------\n",
      "Cost of D after epoch 97: 0.688974\n",
      "Cost of G after epoch 97: 0.052087\n",
      "--------------- Epoch 98 ---------------\n",
      "Cost of D after epoch 98: 0.692182\n",
      "Cost of G after epoch 98: 0.052184\n",
      "--------------- Epoch 99 ---------------\n",
      "Cost of D after epoch 99: 0.688445\n",
      "Cost of G after epoch 99: 0.052192\n",
      "--------------- Epoch 100 ---------------\n",
      "Cost of D after epoch 100: 0.689501\n",
      "Cost of G after epoch 100: 0.052263\n"
     ]
    },
    {
     "data": {
      "image/png": "[encoded data removed]",
      "text/plain": [
       "<Figure size 432x288 with 5 Axes>"
      ]
     },
     "metadata": {},
     "output_type": "display_data"
    }
   ],
   "source": [
    "def train(X_train, y_train, x_test, y_test, epochs=100, minibatch_size=128, random_dim = 100):\n",
    "\n",
    "# Build our GAN network\n",
    "    G, D, gan = get_gan_network()\n",
    "    \n",
    "    # for plotting at the end\n",
    "    D_loss = []\n",
    "    G_loss = []\n",
    "    \n",
    "    # number of WHOLE minibatches \n",
    "    num_batches = int(X_train.shape[0]/minibatch_size)\n",
    "    \n",
    "    # Following parameter and optimizer set as recommended in paper\n",
    "    n_critic = 4\n",
    "    clip_value = 0.01\n",
    "    \n",
    "    \n",
    "    # Adversarial ground truths\n",
    "    valid = np.repeat(0.1, minibatch_size) # only for real images\n",
    "    fake = np.ones((minibatch_size, 1))\n",
    "\n",
    "    for epoch in range(1, epochs+1):\n",
    "        print('-'*15, 'Epoch %d' % epoch, '-'*15)\n",
    "        \n",
    "        # Defines a cost related to an epoch\n",
    "        #epoch_cost = 0.                       \n",
    "        \n",
    "        \n",
    "        # Randomize data point\n",
    "        X_train, y_train = shuffle(X_train, y_train)\n",
    "        \n",
    "        \n",
    "        for batch_idx in range(num_batches):\n",
    "            \n",
    "            # ---------------------\n",
    "            #  Train Discriminator\n",
    "            # ---------------------\n",
    "                \n",
    "            for _ in range(n_critic):\n",
    "                \n",
    "                # Select a batch of images and labels\n",
    "                legit_images = X_train[batch_idx*minibatch_size : (batch_idx+1)*minibatch_size].squeeze()\n",
    "                true_labels = y_train[batch_idx*minibatch_size : (batch_idx+1)*minibatch_size]\n",
    "                true_labels = np.asarray([one_hot_encode(x) for x in true_labels])\n",
    "\n",
    "                # Train discriminator on real data\n",
    "                D.trainable = True\n",
    "                d_loss_real = D.train_on_batch([legit_images, true_labels], valid)\n",
    "                \n",
    "                # Generate a batch of new images\n",
    "                noise = np.random.normal(0, 1, size=[minibatch_size, 100]) # random_dim = 100 here\n",
    "                syntetic_images = G.predict([noise, true_labels])\n",
    "                \n",
    "                # Train discriminator on fake data\n",
    "                d_loss_fake = D.train_on_batch([syntetic_images, true_labels], fake)\n",
    "                \n",
    "                d_loss = 0.5 * np.add(d_loss_fake, d_loss_real)\n",
    "                \n",
    "                # Clip critic weights (wgan)\n",
    "                for l in D.layers:\n",
    "                    weights = l.get_weights()\n",
    "                    weights = [np.clip(w, -clip_value, clip_value) for w in weights]\n",
    "                    l.set_weights(weights)\n",
    "                    \n",
    "\n",
    "            \n",
    "            # ---------------------\n",
    "            #  Train Generator\n",
    "            # ---------------------\n",
    "            \n",
    "\n",
    "            random_labels = np.asarray([one_hot_encode(x) for x in np.random.choice(10, minibatch_size)]) \n",
    "            \n",
    "            D.trainable = False\n",
    "            g_loss = gan.train_on_batch([noise, random_labels], valid) # fool D to think they are valid\n",
    "        \n",
    "        # At end of epoch, append latest value for losses\n",
    "        D_loss.append(d_loss[0])\n",
    "        G_loss.append(g_lossp[0])\n",
    "\n",
    "            \n",
    "        # Plot the progress\n",
    "        #print (\"%d [D loss: %f] [G loss: %f]\" % (epoch, 1 - d_loss[0], 1 - g_loss[0]))\n",
    "        print (\"Cost of D after epoch %i: %f\" % (epoch, d_loss[0]))\n",
    "        print (\"Cost of G after epoch %i: %f\" % (epoch, g_loss[0]))\n",
    "            \n",
    "               \n",
    "            \n",
    "        if epoch == 1 or epoch % 10 == 0:\n",
    "            \n",
    "            # PLOT examples of 5 first synthetic images created by G\n",
    "            for i in range(5):\n",
    "                plt.subplot(5,5,i+1)\n",
    "                plt.xticks([])\n",
    "                plt.yticks([])\n",
    "                plt.grid(False)\n",
    "                plt.imshow(syntetic_images.reshape(int(minibatch_size), 28, 28)[i], interpolation='nearest', cmap='gray_r')\n",
    "            plt.show()\n",
    "            \n",
    "            #plot_generated_images(e, G, random_dim)\n",
    "            \n",
    "    # Save models in case (creates a HDF5 file 'model.h5')    \n",
    "    G.save_weights('Generator.h5') \n",
    "    D.save_weights('Discriminator.h5')\n",
    "    \n",
    "    return [D_loss, G_loss]\n",
    "       \n",
    "                  \n",
    "            \n",
    "            \n",
    "if __name__ == '__main__':\n",
    "    [D_loss, G_loss] = train(X_train, y_train, X_test, y_test, epochs = 100, minibatch_size=128, random_dim = 100) # random_dim = The dimension of our random noise vector.\n",
    "    \n",
    "    "
   ]
  },
  {
   "cell_type": "markdown",
   "metadata": {},
   "source": [
    "### Visualise loss of D and G"
   ]
  },
  {
   "cell_type": "code",
   "execution_count": 29,
   "metadata": {},
   "outputs": [
    {
     "ename": "TypeError",
     "evalue": "Empty 'DataFrame': no numeric data to plot",
     "output_type": "error",
     "traceback": [
      "\u001b[1;31m---------------------------------------------------------------------------\u001b[0m",
      "\u001b[1;31mTypeError\u001b[0m                                 Traceback (most recent call last)",
      "\u001b[1;32m<ipython-input-29-2676a0c766f4>\u001b[0m in \u001b[0;36m<module>\u001b[1;34m()\u001b[0m\n\u001b[1;32m----> 1\u001b[1;33m \u001b[0max\u001b[0m \u001b[1;33m=\u001b[0m \u001b[0mpd\u001b[0m\u001b[1;33m.\u001b[0m\u001b[0mDataFrame\u001b[0m\u001b[1;33m(\u001b[0m\u001b[1;33m{\u001b[0m\u001b[1;34m'Generative Loss'\u001b[0m\u001b[1;33m:\u001b[0m \u001b[0mG_loss\u001b[0m\u001b[1;33m,\u001b[0m \u001b[1;34m'Discriminative Loss'\u001b[0m\u001b[1;33m:\u001b[0m \u001b[0mD_loss\u001b[0m\u001b[1;33m,\u001b[0m\u001b[1;33m}\u001b[0m\u001b[1;33m)\u001b[0m\u001b[1;33m.\u001b[0m\u001b[0mplot\u001b[0m\u001b[1;33m(\u001b[0m\u001b[0mtitle\u001b[0m\u001b[1;33m=\u001b[0m\u001b[1;34m'Training loss'\u001b[0m\u001b[1;33m,\u001b[0m \u001b[0mlogy\u001b[0m\u001b[1;33m=\u001b[0m\u001b[1;32mTrue\u001b[0m\u001b[1;33m)\u001b[0m\u001b[1;33m\u001b[0m\u001b[0m\n\u001b[0m\u001b[0;32m      2\u001b[0m \u001b[0max\u001b[0m\u001b[1;33m.\u001b[0m\u001b[0mset_xlabel\u001b[0m\u001b[1;33m(\u001b[0m\u001b[1;34m\"Epochs\"\u001b[0m\u001b[1;33m)\u001b[0m\u001b[1;33m\u001b[0m\u001b[0m\n\u001b[0;32m      3\u001b[0m \u001b[0max\u001b[0m\u001b[1;33m.\u001b[0m\u001b[0mset_ylabel\u001b[0m\u001b[1;33m(\u001b[0m\u001b[1;34m\"Loss\"\u001b[0m\u001b[1;33m)\u001b[0m\u001b[1;33m\u001b[0m\u001b[0m\n",
      "\u001b[1;32m~\\AppData\\Local\\conda\\conda\\envs\\kerasproject\\lib\\site-packages\\pandas\\plotting\\_core.py\u001b[0m in \u001b[0;36m__call__\u001b[1;34m(self, x, y, kind, ax, subplots, sharex, sharey, layout, figsize, use_index, title, grid, legend, style, logx, logy, loglog, xticks, yticks, xlim, ylim, rot, fontsize, colormap, table, yerr, xerr, secondary_y, sort_columns, **kwds)\u001b[0m\n\u001b[0;32m   2939\u001b[0m                           \u001b[0mfontsize\u001b[0m\u001b[1;33m=\u001b[0m\u001b[0mfontsize\u001b[0m\u001b[1;33m,\u001b[0m \u001b[0mcolormap\u001b[0m\u001b[1;33m=\u001b[0m\u001b[0mcolormap\u001b[0m\u001b[1;33m,\u001b[0m \u001b[0mtable\u001b[0m\u001b[1;33m=\u001b[0m\u001b[0mtable\u001b[0m\u001b[1;33m,\u001b[0m\u001b[1;33m\u001b[0m\u001b[0m\n\u001b[0;32m   2940\u001b[0m                           \u001b[0myerr\u001b[0m\u001b[1;33m=\u001b[0m\u001b[0myerr\u001b[0m\u001b[1;33m,\u001b[0m \u001b[0mxerr\u001b[0m\u001b[1;33m=\u001b[0m\u001b[0mxerr\u001b[0m\u001b[1;33m,\u001b[0m \u001b[0msecondary_y\u001b[0m\u001b[1;33m=\u001b[0m\u001b[0msecondary_y\u001b[0m\u001b[1;33m,\u001b[0m\u001b[1;33m\u001b[0m\u001b[0m\n\u001b[1;32m-> 2941\u001b[1;33m                           sort_columns=sort_columns, **kwds)\n\u001b[0m\u001b[0;32m   2942\u001b[0m     \u001b[0m__call__\u001b[0m\u001b[1;33m.\u001b[0m\u001b[0m__doc__\u001b[0m \u001b[1;33m=\u001b[0m \u001b[0mplot_frame\u001b[0m\u001b[1;33m.\u001b[0m\u001b[0m__doc__\u001b[0m\u001b[1;33m\u001b[0m\u001b[0m\n\u001b[0;32m   2943\u001b[0m \u001b[1;33m\u001b[0m\u001b[0m\n",
      "\u001b[1;32m~\\AppData\\Local\\conda\\conda\\envs\\kerasproject\\lib\\site-packages\\pandas\\plotting\\_core.py\u001b[0m in \u001b[0;36mplot_frame\u001b[1;34m(data, x, y, kind, ax, subplots, sharex, sharey, layout, figsize, use_index, title, grid, legend, style, logx, logy, loglog, xticks, yticks, xlim, ylim, rot, fontsize, colormap, table, yerr, xerr, secondary_y, sort_columns, **kwds)\u001b[0m\n\u001b[0;32m   1975\u001b[0m                  \u001b[0myerr\u001b[0m\u001b[1;33m=\u001b[0m\u001b[0myerr\u001b[0m\u001b[1;33m,\u001b[0m \u001b[0mxerr\u001b[0m\u001b[1;33m=\u001b[0m\u001b[0mxerr\u001b[0m\u001b[1;33m,\u001b[0m\u001b[1;33m\u001b[0m\u001b[0m\n\u001b[0;32m   1976\u001b[0m                  \u001b[0msecondary_y\u001b[0m\u001b[1;33m=\u001b[0m\u001b[0msecondary_y\u001b[0m\u001b[1;33m,\u001b[0m \u001b[0msort_columns\u001b[0m\u001b[1;33m=\u001b[0m\u001b[0msort_columns\u001b[0m\u001b[1;33m,\u001b[0m\u001b[1;33m\u001b[0m\u001b[0m\n\u001b[1;32m-> 1977\u001b[1;33m                  **kwds)\n\u001b[0m\u001b[0;32m   1978\u001b[0m \u001b[1;33m\u001b[0m\u001b[0m\n\u001b[0;32m   1979\u001b[0m \u001b[1;33m\u001b[0m\u001b[0m\n",
      "\u001b[1;32m~\\AppData\\Local\\conda\\conda\\envs\\kerasproject\\lib\\site-packages\\pandas\\plotting\\_core.py\u001b[0m in \u001b[0;36m_plot\u001b[1;34m(data, x, y, subplots, ax, kind, **kwds)\u001b[0m\n\u001b[0;32m   1802\u001b[0m         \u001b[0mplot_obj\u001b[0m \u001b[1;33m=\u001b[0m \u001b[0mklass\u001b[0m\u001b[1;33m(\u001b[0m\u001b[0mdata\u001b[0m\u001b[1;33m,\u001b[0m \u001b[0msubplots\u001b[0m\u001b[1;33m=\u001b[0m\u001b[0msubplots\u001b[0m\u001b[1;33m,\u001b[0m \u001b[0max\u001b[0m\u001b[1;33m=\u001b[0m\u001b[0max\u001b[0m\u001b[1;33m,\u001b[0m \u001b[0mkind\u001b[0m\u001b[1;33m=\u001b[0m\u001b[0mkind\u001b[0m\u001b[1;33m,\u001b[0m \u001b[1;33m**\u001b[0m\u001b[0mkwds\u001b[0m\u001b[1;33m)\u001b[0m\u001b[1;33m\u001b[0m\u001b[0m\n\u001b[0;32m   1803\u001b[0m \u001b[1;33m\u001b[0m\u001b[0m\n\u001b[1;32m-> 1804\u001b[1;33m     \u001b[0mplot_obj\u001b[0m\u001b[1;33m.\u001b[0m\u001b[0mgenerate\u001b[0m\u001b[1;33m(\u001b[0m\u001b[1;33m)\u001b[0m\u001b[1;33m\u001b[0m\u001b[0m\n\u001b[0m\u001b[0;32m   1805\u001b[0m     \u001b[0mplot_obj\u001b[0m\u001b[1;33m.\u001b[0m\u001b[0mdraw\u001b[0m\u001b[1;33m(\u001b[0m\u001b[1;33m)\u001b[0m\u001b[1;33m\u001b[0m\u001b[0m\n\u001b[0;32m   1806\u001b[0m     \u001b[1;32mreturn\u001b[0m \u001b[0mplot_obj\u001b[0m\u001b[1;33m.\u001b[0m\u001b[0mresult\u001b[0m\u001b[1;33m\u001b[0m\u001b[0m\n",
      "\u001b[1;32m~\\AppData\\Local\\conda\\conda\\envs\\kerasproject\\lib\\site-packages\\pandas\\plotting\\_core.py\u001b[0m in \u001b[0;36mgenerate\u001b[1;34m(self)\u001b[0m\n\u001b[0;32m    256\u001b[0m     \u001b[1;32mdef\u001b[0m \u001b[0mgenerate\u001b[0m\u001b[1;33m(\u001b[0m\u001b[0mself\u001b[0m\u001b[1;33m)\u001b[0m\u001b[1;33m:\u001b[0m\u001b[1;33m\u001b[0m\u001b[0m\n\u001b[0;32m    257\u001b[0m         \u001b[0mself\u001b[0m\u001b[1;33m.\u001b[0m\u001b[0m_args_adjust\u001b[0m\u001b[1;33m(\u001b[0m\u001b[1;33m)\u001b[0m\u001b[1;33m\u001b[0m\u001b[0m\n\u001b[1;32m--> 258\u001b[1;33m         \u001b[0mself\u001b[0m\u001b[1;33m.\u001b[0m\u001b[0m_compute_plot_data\u001b[0m\u001b[1;33m(\u001b[0m\u001b[1;33m)\u001b[0m\u001b[1;33m\u001b[0m\u001b[0m\n\u001b[0m\u001b[0;32m    259\u001b[0m         \u001b[0mself\u001b[0m\u001b[1;33m.\u001b[0m\u001b[0m_setup_subplots\u001b[0m\u001b[1;33m(\u001b[0m\u001b[1;33m)\u001b[0m\u001b[1;33m\u001b[0m\u001b[0m\n\u001b[0;32m    260\u001b[0m         \u001b[0mself\u001b[0m\u001b[1;33m.\u001b[0m\u001b[0m_make_plot\u001b[0m\u001b[1;33m(\u001b[0m\u001b[1;33m)\u001b[0m\u001b[1;33m\u001b[0m\u001b[0m\n",
      "\u001b[1;32m~\\AppData\\Local\\conda\\conda\\envs\\kerasproject\\lib\\site-packages\\pandas\\plotting\\_core.py\u001b[0m in \u001b[0;36m_compute_plot_data\u001b[1;34m(self)\u001b[0m\n\u001b[0;32m    371\u001b[0m         \u001b[1;32mif\u001b[0m \u001b[0mis_empty\u001b[0m\u001b[1;33m:\u001b[0m\u001b[1;33m\u001b[0m\u001b[0m\n\u001b[0;32m    372\u001b[0m             raise TypeError('Empty {0!r}: no numeric data to '\n\u001b[1;32m--> 373\u001b[1;33m                             'plot'.format(numeric_data.__class__.__name__))\n\u001b[0m\u001b[0;32m    374\u001b[0m \u001b[1;33m\u001b[0m\u001b[0m\n\u001b[0;32m    375\u001b[0m         \u001b[0mself\u001b[0m\u001b[1;33m.\u001b[0m\u001b[0mdata\u001b[0m \u001b[1;33m=\u001b[0m \u001b[0mnumeric_data\u001b[0m\u001b[1;33m\u001b[0m\u001b[0m\n",
      "\u001b[1;31mTypeError\u001b[0m: Empty 'DataFrame': no numeric data to plot"
     ]
    }
   ],
   "source": [
    "ax = pd.DataFrame({'Generative Loss': G_loss, 'Discriminative Loss': D_loss,}).plot(title='Training loss', logy=True)\n",
    "ax.set_xlabel(\"Epochs\")\n",
    "ax.set_ylabel(\"Loss\")"
   ]
  },
  {
   "cell_type": "markdown",
   "metadata": {},
   "source": [
    "### Load the saved models D and G"
   ]
  },
  {
   "cell_type": "code",
   "execution_count": 34,
   "metadata": {},
   "outputs": [
    {
     "name": "stdout",
     "output_type": "stream",
     "text": [
      "_________________________________________________________________\n",
      "Layer (type)                 Output Shape              Param #   \n",
      "=================================================================\n",
      "dense_85 (Dense)             (None, 256)               28416     \n",
      "_________________________________________________________________\n",
      "batch_normalization_34 (Batc (None, 256)               1024      \n",
      "_________________________________________________________________\n",
      "leaky_re_lu_64 (LeakyReLU)   (None, 256)               0         \n",
      "_________________________________________________________________\n",
      "dense_86 (Dense)             (None, 512)               131584    \n",
      "_________________________________________________________________\n",
      "batch_normalization_35 (Batc (None, 512)               2048      \n",
      "_________________________________________________________________\n",
      "leaky_re_lu_65 (LeakyReLU)   (None, 512)               0         \n",
      "_________________________________________________________________\n",
      "dense_87 (Dense)             (None, 1024)              525312    \n",
      "_________________________________________________________________\n",
      "batch_normalization_36 (Batc (None, 1024)              4096      \n",
      "_________________________________________________________________\n",
      "leaky_re_lu_66 (LeakyReLU)   (None, 1024)              0         \n",
      "_________________________________________________________________\n",
      "dense_88 (Dense)             (None, 784)               803600    \n",
      "=================================================================\n",
      "Total params: 1,496,080.0\n",
      "Trainable params: 1,492,496.0\n",
      "Non-trainable params: 3,584.0\n",
      "_________________________________________________________________\n"
     ]
    }
   ],
   "source": [
    "## Get the trained weights post training\n",
    "\n",
    "\n",
    "#from keras.models import load_weights\n",
    "\n",
    "# Returns a compiled model identical to the previous one\n",
    "#adam = get_optimizer()\n",
    "random_dim = 100\n",
    "G1 = get_generator()\n",
    "D1 = get_critic()\n",
    "\n",
    "\n",
    "G1.load_weights('Generator.h5')\n",
    "D1.load_weights('Discriminator.h5')"
   ]
  },
  {
   "cell_type": "markdown",
   "metadata": {},
   "source": [
    "### Examples of images produced by G"
   ]
  },
  {
   "cell_type": "code",
   "execution_count": 37,
   "metadata": {},
   "outputs": [
    {
     "name": "stdout",
     "output_type": "stream",
     "text": [
      "[[ 1.  0.  0.  0.  0.  0.  0.  0.  0.  0.]\n",
      " [ 0.  1.  0.  0.  0.  0.  0.  0.  0.  0.]\n",
      " [ 0.  0.  1.  0.  0.  0.  0.  0.  0.  0.]\n",
      " [ 0.  0.  0.  1.  0.  0.  0.  0.  0.  0.]\n",
      " [ 0.  0.  0.  0.  1.  0.  0.  0.  0.  0.]\n",
      " [ 0.  0.  0.  0.  0.  1.  0.  0.  0.  0.]\n",
      " [ 0.  0.  0.  0.  0.  0.  1.  0.  0.  0.]\n",
      " [ 0.  0.  0.  0.  0.  0.  0.  1.  0.  0.]\n",
      " [ 0.  0.  0.  0.  0.  0.  0.  0.  1.  0.]\n",
      " [ 0.  0.  0.  0.  0.  0.  0.  0.  0.  1.]]\n"
     ]
    },
    {
     "data": {
      "image/png": "[encoded data removed]",
      "text/plain": [
       "<Figure size 720x720 with 10 Axes>"
      ]
     },
     "metadata": {
      "needs_background": "light"
     },
     "output_type": "display_data"
    }
   ],
   "source": [
    "examples = 10\n",
    "noise = np.random.normal(0, 1, size=[examples, random_dim])\n",
    "labels = np.arange(10) # create labels from 0 to 9\n",
    "labels = np.asarray([one_hot_encode(x) for x in labels]) \n",
    "\n",
    "print(labels)\n",
    "generated_images = G1.predict([noise, labels])  \n",
    "generated_images = generated_images.reshape(examples, 28, 28)\n",
    "\n",
    "figsize=(10, 10)\n",
    "dim=(10, 10)\n",
    "plt.figure(figsize=figsize)\n",
    "for i in range(generated_images.shape[0]):\n",
    "    plt.subplot(dim[0], dim[1], i+1)\n",
    "    plt.imshow(generated_images[i], interpolation='nearest', cmap='gray_r')\n",
    "    plt.axis('off')\n",
    "plt.tight_layout()\n",
    "#plt.savefig('gan_generated_image_epoch_%d.png' % epoch)"
   ]
  },
  {
   "cell_type": "markdown",
   "metadata": {},
   "source": [
    "### Notes"
   ]
  },
  {
   "cell_type": "markdown",
   "metadata": {},
   "source": [
    "It seems to work really well! But it is very slow (n_critic = 5). I'll try to reduce that number in the future and only increase it if needed\n",
    "\n",
    "\n",
    "- Try with sigmoid activation in D\n",
    "- try with batch norm in D\n",
    "- try play with learning rate\n",
    "- try change n_critic\n",
    "\n",
    "\n"
   ]
  }
 ],
 "metadata": {
  "kernelspec": {
   "display_name": "Python [conda env:kerasproject]",
   "language": "python",
   "name": "conda-env-kerasproject-py"
  },
  "language_info": {
   "codemirror_mode": {
    "name": "ipython",
    "version": 3
   },
   "file_extension": ".py",
   "mimetype": "text/x-python",
   "name": "python",
   "nbconvert_exporter": "python",
   "pygments_lexer": "ipython3",
   "version": "3.5.6"
  }
 },
 "nbformat": 4,
 "nbformat_minor": 2
}
